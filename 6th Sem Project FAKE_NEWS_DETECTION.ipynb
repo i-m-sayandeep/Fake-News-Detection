{
 "cells": [
  {
   "cell_type": "markdown",
   "metadata": {},
   "source": [
    "# FAKE NEWS DETECTION USING SVM & LogR  "
   ]
  },
  {
   "cell_type": "markdown",
   "metadata": {},
   "source": [
    "\n",
    "#### Code provided by Sayandeep Maity, Romak Das, Sreyam Prasad Das, Tilok Saha, Rahul Murmu\n",
    "\n",
    "#### on 9th June,2020\n",
    "\n",
    "#### @ 11:00 AM\n",
    "\n"
   ]
  },
  {
   "cell_type": "markdown",
   "metadata": {},
   "source": [
    "## DATA PROCESSING"
   ]
  },
  {
   "cell_type": "code",
   "execution_count": 1,
   "metadata": {},
   "outputs": [],
   "source": [
    "import pandas as pd\n",
    "import csv\n",
    "import numpy as np\n",
    "import nltk\n",
    "from nltk.stem import SnowballStemmer\n",
    "from nltk.stem.porter import PorterStemmer\n",
    "from nltk.tokenize import word_tokenize\n",
    "import seaborn as sb"
   ]
  },
  {
   "cell_type": "code",
   "execution_count": 2,
   "metadata": {},
   "outputs": [],
   "source": [
    "test_filename = 'test.csv'\n",
    "train_filename = 'train.csv'\n",
    "\n",
    "train_news = pd.read_csv(train_filename)\n",
    "test_news = pd.read_csv(test_filename)"
   ]
  },
  {
   "cell_type": "code",
   "execution_count": 3,
   "metadata": {},
   "outputs": [
    {
     "name": "stdout",
     "output_type": "stream",
     "text": [
      "training dataset size:\n",
      "(10240, 2)\n",
      "                                           Statement  Label\n",
      "0  Says the Annies List political group supports ...  False\n",
      "1  When did the decline of coal start? It started...   True\n",
      "2  Hillary Clinton agrees with John McCain \"by vo...   True\n",
      "3  Health care reform legislation is likely to ma...  False\n",
      "4  The economic turnaround started at the end of ...   True\n",
      "5  The Chicago Bears have had more starting quart...   True\n",
      "6  Jim Dunnam has not lived in the district he re...  False\n",
      "7  I'm the only person on this stage who has work...   True\n",
      "8  However, it took $19.5 million in Oregon Lotte...   True\n",
      "9  Says GOP primary opponents Glenn Grothman and ...   True\n",
      "(2551, 2)\n",
      "                                           Statement  Label\n",
      "0  Building a wall on the U.S.-Mexico border will...   True\n",
      "1  Wisconsin is on pace to double the number of l...  False\n",
      "2  Says John McCain has done nothing to help the ...  False\n",
      "3  Suzanne Bonamici supports a plan that will cut...   True\n",
      "4  When asked by a reporter whether hes at the ce...  False\n",
      "5  Over the past five years the federal governmen...   True\n",
      "6  Says that Tennessee law requires that schools ...   True\n",
      "7  Says Vice President Joe Biden \"admits that the...  False\n",
      "8  Donald Trump is against marriage equality. He ...   True\n",
      "9  We know that more than half of Hillary Clinton...  False\n"
     ]
    }
   ],
   "source": [
    "def data_obs():\n",
    "    print(\"training dataset size:\")\n",
    "    print(train_news.shape)\n",
    "    print(train_news.head(10))\n",
    "\n",
    "    print(test_news.shape)\n",
    "    print(test_news.head(10))\n",
    "\n",
    "data_obs()"
   ]
  },
  {
   "cell_type": "code",
   "execution_count": 4,
   "metadata": {},
   "outputs": [],
   "source": [
    "def create_distribution(dataFile):\n",
    "    return sb.countplot(x='Label', data=dataFile, palette='hls')"
   ]
  },
  {
   "cell_type": "code",
   "execution_count": 5,
   "metadata": {},
   "outputs": [
    {
     "name": "stdout",
     "output_type": "stream",
     "text": [
      "Checking data qualitites...\n",
      "<class 'pandas.core.frame.DataFrame'>\n",
      "RangeIndex: 10240 entries, 0 to 10239\n",
      "Data columns (total 2 columns):\n",
      "Statement    10240 non-null object\n",
      "Label        10240 non-null bool\n",
      "dtypes: bool(1), object(1)\n",
      "memory usage: 90.1+ KB\n",
      "check finished.\n",
      "<class 'pandas.core.frame.DataFrame'>\n",
      "RangeIndex: 2551 entries, 0 to 2550\n",
      "Data columns (total 2 columns):\n",
      "Statement    2551 non-null object\n",
      "Label        2551 non-null bool\n",
      "dtypes: bool(1), object(1)\n",
      "memory usage: 22.5+ KB\n"
     ]
    }
   ],
   "source": [
    "def data_qualityCheck():\n",
    "    \n",
    "    print(\"Checking data qualitites...\")\n",
    "    train_news.isnull().sum()\n",
    "    train_news.info()\n",
    "        \n",
    "    print(\"check finished.\")\n",
    "\n",
    "    #below datasets were used to \n",
    "    test_news.isnull().sum()\n",
    "    test_news.info()\n",
    "\n",
    "data_qualityCheck()"
   ]
  },
  {
   "cell_type": "code",
   "execution_count": 6,
   "metadata": {},
   "outputs": [],
   "source": [
    "def stem_tokens(tokens, stemmer):\n",
    "    stemmed = []\n",
    "    for token in tokens:\n",
    "        stemmed.append(stemmer.stem(token))\n",
    "    return stemmed\n"
   ]
  },
  {
   "cell_type": "code",
   "execution_count": 7,
   "metadata": {},
   "outputs": [],
   "source": [
    "def process_data(data,exclude_stopword=True,stem=True):\n",
    "    tokens = [w.lower() for w in data]\n",
    "    tokens_stemmed = tokens\n",
    "    tokens_stemmed = stem_tokens(tokens, eng_stemmer)\n",
    "    tokens_stemmed = [w for w in tokens_stemmed if w not in stopwords ]\n",
    "    return tokens_stemmed\n"
   ]
  },
  {
   "cell_type": "code",
   "execution_count": 8,
   "metadata": {},
   "outputs": [],
   "source": [
    "def create_unigram(words):\n",
    "    assert type(words) == list\n",
    "    return words\n"
   ]
  },
  {
   "cell_type": "code",
   "execution_count": 9,
   "metadata": {},
   "outputs": [],
   "source": [
    "def create_bigrams(words):\n",
    "    assert type(words) == list\n",
    "    skip = 0\n",
    "    join_str = \" \"\n",
    "    Len = len(words)\n",
    "    if Len > 1:\n",
    "        lst = []\n",
    "        for i in range(Len-1):\n",
    "            for k in range(1,skip+2):\n",
    "                if i+k < Len:\n",
    "                    lst.append(join_str.join([words[i],words[i+k]]))\n",
    "    else:\n",
    "        lst = create_unigram(words)\n",
    "    return lst\n"
   ]
  },
  {
   "cell_type": "code",
   "execution_count": 10,
   "metadata": {},
   "outputs": [],
   "source": [
    "def tokenizer(text):\n",
    "    return text.split()"
   ]
  },
  {
   "cell_type": "code",
   "execution_count": 11,
   "metadata": {},
   "outputs": [],
   "source": [
    "def tokenizer_porter(text):\n",
    "    return [porter.stem(word) for word in text.split()]"
   ]
  },
  {
   "cell_type": "markdown",
   "metadata": {},
   "source": [
    "## FEATURE SELECTION "
   ]
  },
  {
   "cell_type": "code",
   "execution_count": 12,
   "metadata": {},
   "outputs": [],
   "source": [
    "from sklearn.feature_extraction.text import CountVectorizer\n",
    "from sklearn.feature_extraction.text import TfidfTransformer\n",
    "from sklearn.feature_extraction.text import TfidfVectorizer\n",
    "from sklearn.pipeline import Pipeline\n",
    "import nltk.corpus "
   ]
  },
  {
   "cell_type": "code",
   "execution_count": 13,
   "metadata": {},
   "outputs": [],
   "source": [
    "countV = CountVectorizer()\n",
    "train_count = countV.fit_transform(train_news['Statement'].values)"
   ]
  },
  {
   "cell_type": "code",
   "execution_count": 14,
   "metadata": {},
   "outputs": [],
   "source": [
    "def get_countVectorizer_stats():\n",
    "    \n",
    "\n",
    "    train_count.shape\n",
    "\n",
    "    print(countV.vocabulary_)\n",
    "\n",
    "\n",
    "    print(countV.get_feature_names()[:25])\n"
   ]
  },
  {
   "cell_type": "code",
   "execution_count": 15,
   "metadata": {},
   "outputs": [],
   "source": [
    "tfidfV = TfidfTransformer()\n",
    "train_tfidf = tfidfV.fit_transform(train_count)"
   ]
  },
  {
   "cell_type": "code",
   "execution_count": 16,
   "metadata": {},
   "outputs": [],
   "source": [
    "def get_tfidf_stats():\n",
    "    train_tfidf.shape\n",
    "    print(train_tfidf.A[:10])\n",
    "    "
   ]
  },
  {
   "cell_type": "code",
   "execution_count": 17,
   "metadata": {},
   "outputs": [
    {
     "name": "stdout",
     "output_type": "stream",
     "text": [
      "0        Says the Annies List political group supports ...\n",
      "1        When did the decline of coal start? It started...\n",
      "2        Hillary Clinton agrees with John McCain \"by vo...\n",
      "3        Health care reform legislation is likely to ma...\n",
      "4        The economic turnaround started at the end of ...\n",
      "5        The Chicago Bears have had more starting quart...\n",
      "6        Jim Dunnam has not lived in the district he re...\n",
      "7        I'm the only person on this stage who has work...\n",
      "8        However, it took $19.5 million in Oregon Lotte...\n",
      "9        Says GOP primary opponents Glenn Grothman and ...\n",
      "10       For the first time in history, the share of th...\n",
      "11       Since 2000, nearly 12 million Americans have s...\n",
      "12       When Mitt Romney was governor of Massachusetts...\n",
      "13       The economy bled $24 billion due to the govern...\n",
      "14       Most of the (Affordable Care Act) has already ...\n",
      "15       In this last election in November, ... 63 perc...\n",
      "16       McCain opposed a requirement that the governme...\n",
      "17       U.S. Rep. Ron Kind, D-Wis., and his fellow Dem...\n",
      "18       Water rates in Manila, Philippines, were raise...\n",
      "19       Almost 100,000 people left Puerto Rico last year.\n",
      "20       Women and men both are making less when you ad...\n",
      "21       The United States has the highest corporate ta...\n",
      "22       We just had the best year for the auto industr...\n",
      "23       Says Scott Walker favors cutting up to 350,000...\n",
      "24       Says Mitt Romney wants to get rid of Planned P...\n",
      "25                   I dont know who (Jonathan Gruber) is.\n",
      "26       Hate crimes against American Muslims and mosqu...\n",
      "27       Rick Perry has never lost an election and rema...\n",
      "28       ISIS supporter tweeted at 10:34 a.m. Shooting ...\n",
      "29       Youth unemployment in minority communities is ...\n",
      "                               ...                        \n",
      "10210    Since the Affordable Care Act passed, 90 perce...\n",
      "10211    Debt has almost doubled in Austin under Gov. P...\n",
      "10212    Lets say (Republicans) take away half of our d...\n",
      "10213    Theres a tremendous other number of public off...\n",
      "10214    Under last years health care reform, a bunch o...\n",
      "10215    The Obama administration spent $205,075 in sti...\n",
      "10216    There has been no net global warming for over ...\n",
      "10217    Thanks to the Obama administrations negotiatio...\n",
      "10218    This race will be the Democrats top target thi...\n",
      "10219    Georgia Public Service Commission member Stan ...\n",
      "10220    Says he and Mitt Romney agreed on tying minimu...\n",
      "10221    As a result of Obamacare, California seniors f...\n",
      "10222    For the first time since the Korean War, total...\n",
      "10223    Says Rick Perry turned down our invitation to ...\n",
      "10224    In 2012, the state put together a list of over...\n",
      "10225    The Republican Party lost 1.1 million register...\n",
      "10226    The proudest accomplishment (of my tenure) was...\n",
      "10227    Recently though, the media has reported on tho...\n",
      "10228    Stopped by Smiley Cookie to pick up some great...\n",
      "10229     Mike Trainor...still owes $250,000 to the state.\n",
      "10230    The Supreme Courts views are radically out of ...\n",
      "10231    When it comes to the state deficit, Wisconsin ...\n",
      "10232    Eighty percent of the net new jobs created in ...\n",
      "10233    Mayor Fung wants to punish our childrens educa...\n",
      "10234    Under the ruling of the Supreme Court, any lob...\n",
      "10235    There are a larger number of shark attacks in ...\n",
      "10236    Democrats have now become the party of the [At...\n",
      "10237    Says an alternative to Social Security that op...\n",
      "10238    On lifting the U.S. Cuban embargo and allowing...\n",
      "10239    The Department of Veterans Affairs has a manua...\n",
      "Name: Statement, Length: 10240, dtype: object\n"
     ]
    }
   ],
   "source": [
    "tfidf_ngram = TfidfVectorizer(stop_words='english',ngram_range=(1,4),use_idf=True,smooth_idf=True)\n",
    "\n",
    "\n",
    "tagged_sentences = nltk.corpus.treebank.tagged_sents()\n",
    "\n",
    "cutoff = int(.75 * len(tagged_sentences))\n",
    "training_sentences = train_news['Statement']\n",
    " \n",
    "print(training_sentences)"
   ]
  },
  {
   "cell_type": "code",
   "execution_count": 18,
   "metadata": {},
   "outputs": [],
   "source": [
    "def features(sentence, index):\n",
    "    return {\n",
    "        'word': sentence[index],\n",
    "        'is_first': index == 0,\n",
    "        'is_last': index == len(sentence) - 1,\n",
    "        'is_capitalized': sentence[index][0].upper() == sentence[index][0],\n",
    "        'is_all_caps': sentence[index].upper() == sentence[index],\n",
    "        'is_all_lower': sentence[index].lower() == sentence[index],\n",
    "        'prefix-1': sentence[index][0],\n",
    "        'prefix-2': sentence[index][:2],\n",
    "        'prefix-3': sentence[index][:3],\n",
    "        'suffix-1': sentence[index][-1],\n",
    "        'suffix-2': sentence[index][-2:],\n",
    "        'suffix-3': sentence[index][-3:],\n",
    "        'prev_word': '' if index == 0 else sentence[index - 1],\n",
    "        'next_word': '' if index == len(sentence) - 1 else sentence[index + 1],\n",
    "        'has_hyphen': '-' in sentence[index],\n",
    "        'is_numeric': sentence[index].isdigit(),\n",
    "        'capitals_inside': sentence[index][1:].lower() != sentence[index][1:]\n",
    "    }\n",
    "    "
   ]
  },
  {
   "cell_type": "markdown",
   "metadata": {},
   "source": [
    "## CLASSIFICATION"
   ]
  },
  {
   "cell_type": "code",
   "execution_count": 19,
   "metadata": {},
   "outputs": [],
   "source": [
    "from sklearn.feature_extraction.text import CountVectorizer\n",
    "from sklearn.feature_extraction.text import TfidfTransformer\n",
    "from sklearn.feature_extraction.text import TfidfVectorizer\n",
    "from sklearn.pipeline import Pipeline\n",
    "from sklearn.linear_model import  LogisticRegression\n",
    "from sklearn import svm\n",
    "from sklearn.metrics import confusion_matrix, f1_score, classification_report\n",
    "import matplotlib.pyplot as plt"
   ]
  },
  {
   "cell_type": "code",
   "execution_count": 20,
   "metadata": {},
   "outputs": [
    {
     "data": {
      "text/plain": [
       "0.5985887887103096"
      ]
     },
     "execution_count": 20,
     "metadata": {},
     "output_type": "execute_result"
    }
   ],
   "source": [
    "#building classifier using logistic regression\n",
    "logR_pipeline = Pipeline([\n",
    "        ('LogRCV',countV),\n",
    "        ('LogR_clf',LogisticRegression())\n",
    "        ])\n",
    "logR_pipeline.fit(train_news['Statement'],train_news['Label'])\n",
    "predicted_LogR = logR_pipeline.predict(test_news['Statement'])\n",
    "np.mean(predicted_LogR == test_news['Label'])"
   ]
  },
  {
   "cell_type": "code",
   "execution_count": 21,
   "metadata": {},
   "outputs": [
    {
     "data": {
      "text/plain": [
       "0.5723245785966288"
      ]
     },
     "execution_count": 21,
     "metadata": {},
     "output_type": "execute_result"
    }
   ],
   "source": [
    "#building classifier using SVM\n",
    "svm_pipeline = Pipeline([\n",
    "        ('svmCV',countV),\n",
    "        ('svm_clf',svm.LinearSVC())\n",
    "        ])\n",
    "\n",
    "svm_pipeline.fit(train_news['Statement'],train_news['Label'])\n",
    "predicted_svm = svm_pipeline.predict(test_news['Statement'])\n",
    "np.mean(predicted_svm == test_news['Label'])\n",
    "\n"
   ]
  },
  {
   "cell_type": "markdown",
   "metadata": {},
   "source": [
    "### Using K-Fold plotting graphs"
   ]
  },
  {
   "cell_type": "code",
   "execution_count": 22,
   "metadata": {},
   "outputs": [],
   "source": [
    "from sklearn.model_selection import KFold\n",
    "import itertools\n",
    "import collections"
   ]
  },
  {
   "cell_type": "code",
   "execution_count": 23,
   "metadata": {},
   "outputs": [
    {
     "name": "stdout",
     "output_type": "stream",
     "text": [
      "Total statements classified: 10240\n",
      "Accuracy: 64.69090977975252\n",
      "Confusion matrix:\n"
     ]
    },
    {
     "data": {
      "image/png": "[encoded data removed]",
      "text/plain": [
       "<Figure size 432x288 with 2 Axes>"
      ]
     },
     "metadata": {
      "needs_background": "light"
     },
     "output_type": "display_data"
    },
    {
     "name": "stdout",
     "output_type": "stream",
     "text": [
      "Total statements classified: 10240\n",
      "Accuracy: 61.04687487924283\n",
      "Confusion matrix:\n"
     ]
    },
    {
     "data": {
      "image/png": "[encoded data removed]",
      "text/plain": [
       "<Figure size 432x288 with 2 Axes>"
      ]
     },
     "metadata": {
      "needs_background": "light"
     },
     "output_type": "display_data"
    },
    {
     "data": {
      "text/plain": [
       "(None, None, None, None)"
      ]
     },
     "execution_count": 23,
     "metadata": {},
     "output_type": "execute_result"
    }
   ],
   "source": [
    "def plot_confusion_matrix(cm,\n",
    "                          normalize=False,\n",
    "                          title='Confusion matrix',\n",
    "                          cmap=plt.cm.Reds):\n",
    "    \"\"\"\n",
    "    This function prints and plots the confusion matrix.\n",
    "    Normalization can be applied by setting `normalize=True`.\n",
    "    \"\"\"\n",
    "    \"\"\"\n",
    "    if normalize:\n",
    "        cm = cm.astype('float') / cm.sum(axis=1)[:, np.newaxis]\n",
    "        print(\"Normalized confusion matrix\")\n",
    "    else:\n",
    "        print('Confusion matrix, without normalization')\n",
    "    \"\"\"\n",
    "\n",
    "    plt.figure()\n",
    "    plt.imshow(cm, interpolation='nearest', cmap=cmap)\n",
    "    plt.title(title)\n",
    "    plt.colorbar()\n",
    "\n",
    "    fmt = '.2f' if normalize else 'd'\n",
    "    thresh = cm.max() / 1.5\n",
    "    for i, j in itertools.product(range(cm.shape[0]), range(cm.shape[1])):\n",
    "        #cm[i, j] = 0 if np.isnan(cm[i, j]) else cm[i, j]\n",
    "        plt.text(j, i, format(cm[i, j], fmt),\n",
    "                 horizontalalignment=\"center\",\n",
    "                 color=\"black\" if cm[i, j] < thresh else \"white\")\n",
    "\n",
    "    plt.tight_layout()\n",
    "    plt.ylabel('True label')\n",
    "    plt.xlabel('Predicted label')\n",
    "    plt.show()\n",
    "            \n",
    "def build_confusion_matrix(classifier):\n",
    "    \n",
    "    k_fold = KFold(n_splits=5)\n",
    "    scores = []\n",
    "    confusion = np.array([[0,0],[0,0]])\n",
    "\n",
    "    for train_ind, test_ind in k_fold.split(train_news):\n",
    "        train_text =train_news.iloc[train_ind]['Statement'] \n",
    "        train_y = train_news.iloc[train_ind]['Label']\n",
    "    \n",
    "        test_text = train_news.iloc[test_ind]['Statement']\n",
    "        test_y =train_news.iloc[test_ind]['Label']\n",
    "        \n",
    "        classifier.fit(train_text,train_y)\n",
    "        predictions = classifier.predict(test_text)\n",
    "        \n",
    "        confusion += confusion_matrix(test_y,predictions)\n",
    "        score = f1_score(test_y,predictions)\n",
    "        scores.append(score)\n",
    "        \n",
    "        \n",
    "    \n",
    "    return (print('Total statements classified:', len(train_news)),\n",
    "    print('Accuracy:', (sum(scores)/len(scores)*100)),\n",
    "    print('Confusion matrix:'),\n",
    "    plot_confusion_matrix(confusion))\n",
    "            \n",
    "            \n",
    "            \n",
    "            \n",
    "#K-fold cross validation for all classifiers)\n",
    "build_confusion_matrix(logR_pipeline)\n",
    "build_confusion_matrix(svm_pipeline)\n"
   ]
  },
  {
   "cell_type": "markdown",
   "metadata": {},
   "source": [
    "\n",
    "### To increase the accuracy  of the model now we have used n-grams\n",
    "\n",
    "#### using n-gram"
   ]
  },
  {
   "cell_type": "code",
   "execution_count": 24,
   "metadata": {},
   "outputs": [
    {
     "data": {
      "text/plain": [
       "0.6193649549196394"
      ]
     },
     "execution_count": 24,
     "metadata": {},
     "output_type": "execute_result"
    }
   ],
   "source": [
    "#logistic regression classifier suing n-gram\n",
    "logR_pipeline_ngram = Pipeline([\n",
    "        ('LogR_tfidf',tfidf_ngram),\n",
    "        ('LogR_clf',LogisticRegression(penalty=\"l2\",C=1))\n",
    "        ])\n",
    "\n",
    "logR_pipeline_ngram.fit(train_news['Statement'],train_news['Label'])\n",
    "predicted_LogR_ngram = logR_pipeline_ngram.predict(test_news['Statement'])\n",
    "np.mean(predicted_LogR_ngram == test_news['Label'])\n"
   ]
  },
  {
   "cell_type": "code",
   "execution_count": 25,
   "metadata": {},
   "outputs": [
    {
     "data": {
      "text/plain": [
       "0.6170129361034888"
      ]
     },
     "execution_count": 25,
     "metadata": {},
     "output_type": "execute_result"
    }
   ],
   "source": [
    "#linear SVM classifier using n-gram\n",
    "svm_pipeline_ngram = Pipeline([\n",
    "        ('svm_tfidf',tfidf_ngram),\n",
    "        ('svm_clf',svm.LinearSVC())\n",
    "        ])\n",
    "\n",
    "svm_pipeline_ngram.fit(train_news['Statement'],train_news['Label'])\n",
    "predicted_svm_ngram = svm_pipeline_ngram.predict(test_news['Statement'])\n",
    "np.mean(predicted_svm_ngram == test_news['Label'])\n"
   ]
  },
  {
   "cell_type": "code",
   "execution_count": 30,
   "metadata": {},
   "outputs": [
    {
     "name": "stdout",
     "output_type": "stream",
     "text": [
      "Total statements classified: 10240\n",
      "Accuracy: 70.44355553757985\n",
      "Confusion matrix:\n"
     ]
    },
    {
     "data": {
      "image/png": "[encoded data removed]",
      "text/plain": [
       "<Figure size 432x288 with 2 Axes>"
      ]
     },
     "metadata": {
      "needs_background": "light"
     },
     "output_type": "display_data"
    },
    {
     "name": "stdout",
     "output_type": "stream",
     "text": [
      "Total statements classified: 10240\n",
      "Accuracy: 67.90920142902142\n",
      "Confusion matrix:\n"
     ]
    },
    {
     "data": {
      "image/png": "[encoded data removed]",
      "text/plain": [
       "<Figure size 432x288 with 2 Axes>"
      ]
     },
     "metadata": {
      "needs_background": "light"
     },
     "output_type": "display_data"
    },
    {
     "data": {
      "text/plain": [
       "(None, None, None, None)"
      ]
     },
     "execution_count": 30,
     "metadata": {},
     "output_type": "execute_result"
    }
   ],
   "source": [
    "def plot_confusion_matrix(cm,\n",
    "                          normalize=False,\n",
    "                          title='Confusion matrix',\n",
    "                          cmap=plt.cm.Greens):\n",
    "    \"\"\"\n",
    "    This function prints and plots the confusion matrix.\n",
    "    Normalization can be applied by setting `normalize=True`.\n",
    "    \"\"\"\n",
    "    \"\"\"\n",
    "    if normalize:\n",
    "        cm = cm.astype('float') / cm.sum(axis=1)[:, np.newaxis]\n",
    "        print(\"Normalized confusion matrix\")\n",
    "    else:\n",
    "        print('Confusion matrix, without normalization')\n",
    "    \"\"\"\n",
    "\n",
    "    plt.figure()\n",
    "    plt.imshow(cm, interpolation='nearest', cmap=cmap)\n",
    "    plt.title(title)\n",
    "    plt.colorbar()\n",
    "\n",
    "    fmt = '.2f' if normalize else 'd'\n",
    "    thresh = cm.max() / 1.3\n",
    "    for i, j in itertools.product(range(cm.shape[0]), range(cm.shape[1])):\n",
    "        #cm[i, j] = 0 if np.isnan(cm[i, j]) else cm[i, j]\n",
    "        plt.text(j, i, format(cm[i, j], fmt),\n",
    "                 horizontalalignment=\"center\",\n",
    "                 color=\"black\" if cm[i, j] < thresh else \"black\")\n",
    "\n",
    "    plt.tight_layout()\n",
    "    plt.ylabel('True label')\n",
    "    plt.xlabel('Predicted label')\n",
    "    plt.show()\n",
    "            \n",
    "def build_confusion_matrix(classifier):\n",
    "    \n",
    "    k_fold = KFold(n_splits=5)\n",
    "    scores = []\n",
    "    confusion = np.array([[0,0],[0,0]])\n",
    "\n",
    "    for train_ind, test_ind in k_fold.split(train_news):\n",
    "        train_text =train_news.iloc[train_ind]['Statement'] \n",
    "        train_y = train_news.iloc[train_ind]['Label']\n",
    "    \n",
    "        test_text = train_news.iloc[test_ind]['Statement']\n",
    "        test_y =train_news.iloc[test_ind]['Label']\n",
    "        \n",
    "        classifier.fit(train_text,train_y)\n",
    "        predictions = classifier.predict(test_text)\n",
    "        \n",
    "        confusion += confusion_matrix(test_y,predictions)\n",
    "        score = f1_score(test_y,predictions)\n",
    "        scores.append(score)\n",
    "        \n",
    "        \n",
    "    \n",
    "    return (print('Total statements classified:', len(train_news)),\n",
    "    print('Accuracy:', (sum(scores)/len(scores)*100)),\n",
    "    print('Confusion matrix:'),\n",
    "    plot_confusion_matrix(confusion))\n",
    "            \n",
    "            \n",
    "            \n",
    "            \n",
    "#K-fold cross validation for all classifiers)\n",
    "build_confusion_matrix(logR_pipeline_ngram)\n",
    "build_confusion_matrix(svm_pipeline_ngram)\n"
   ]
  },
  {
   "cell_type": "code",
   "execution_count": 27,
   "metadata": {},
   "outputs": [
    {
     "name": "stdout",
     "output_type": "stream",
     "text": [
      "             precision    recall  f1-score   support\n",
      "\n",
      "      False       0.64      0.39      0.49      1169\n",
      "       True       0.61      0.81      0.70      1382\n",
      "\n",
      "avg / total       0.62      0.62      0.60      2551\n",
      "\n",
      "             precision    recall  f1-score   support\n",
      "\n",
      "      False       0.61      0.47      0.53      1169\n",
      "       True       0.62      0.74      0.68      1382\n",
      "\n",
      "avg / total       0.62      0.62      0.61      2551\n",
      "\n"
     ]
    }
   ],
   "source": [
    "print(classification_report(test_news['Label'], predicted_LogR_ngram))\n",
    "print(classification_report(test_news['Label'], predicted_svm_ngram))"
   ]
  },
  {
   "cell_type": "markdown",
   "metadata": {},
   "source": [
    "### Creating Precision Recall curve"
   ]
  },
  {
   "cell_type": "code",
   "execution_count": 28,
   "metadata": {},
   "outputs": [],
   "source": [
    "from sklearn.metrics import precision_recall_curve\n",
    "from sklearn.metrics import average_precision_score"
   ]
  },
  {
   "cell_type": "code",
   "execution_count": 32,
   "metadata": {},
   "outputs": [
    {
     "data": {
      "image/png": "[encoded data removed]",
      "text/plain": [
       "<Figure size 432x288 with 1 Axes>"
      ]
     },
     "metadata": {
      "needs_background": "light"
     },
     "output_type": "display_data"
    }
   ],
   "source": [
    "def plot_PR_curve(classifier):\n",
    "    \n",
    "    precision, recall, thresholds = precision_recall_curve(test_news['Label'], classifier)\n",
    "    average_precision = average_precision_score(test_news['Label'], classifier)\n",
    "    \n",
    "    plt.step(recall, precision, color='black', alpha=1,\n",
    "             where='post')\n",
    "    plt.fill_between(recall, precision, step='post', alpha=0.1,\n",
    "                     color='blue')\n",
    "    \n",
    "    plt.xlabel('Recall')\n",
    "    plt.ylabel('Precision')\n",
    "    plt.ylim([0.0, 0.8])\n",
    "    plt.xlim([0.0, 1.0])\n",
    "    plt.title(' Precision-Recall curve: AP={0:0.2f}'.format(\n",
    "              average_precision))\n",
    "    \n",
    "plot_PR_curve(predicted_LogR_ngram)\n",
    "plot_PR_curve(predicted_svm_ngram)"
   ]
  },
  {
   "cell_type": "code",
   "execution_count": null,
   "metadata": {},
   "outputs": [],
   "source": []
  },
  {
   "cell_type": "code",
   "execution_count": null,
   "metadata": {},
   "outputs": [],
   "source": []
  },
  {
   "cell_type": "code",
   "execution_count": null,
   "metadata": {},
   "outputs": [],
   "source": []
  }
 ],
 "metadata": {
  "kernelspec": {
   "display_name": "Python 3",
   "language": "python",
   "name": "python3"
  },
  "language_info": {
   "codemirror_mode": {
    "name": "ipython",
    "version": 3
   },
   "file_extension": ".py",
   "mimetype": "text/x-python",
   "name": "python",
   "nbconvert_exporter": "python",
   "pygments_lexer": "ipython3",
   "version": "3.7.0"
  }
 },
 "nbformat": 4,
 "nbformat_minor": 2
}
